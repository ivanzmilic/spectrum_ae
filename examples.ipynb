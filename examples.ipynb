{
 "cells": [
  {
   "cell_type": "code",
   "execution_count": 2,
   "id": "bc24026c",
   "metadata": {},
   "outputs": [],
   "source": [
    "import numpy as np\n",
    "import matplotlib.pyplot as plt\n",
    "import torch\n",
    "import torch.nn as nn\n",
    "import torch.nn.functional as F\n",
    "from torch.autograd import Variable\n",
    "from torchsummary import summary #https://github.com/sksq96/pytorch-summary\n",
    "torch.manual_seed(1234)\n",
    "np.random.seed(1234)"
   ]
  },
  {
   "cell_type": "code",
   "execution_count": 9,
   "id": "5992345a",
   "metadata": {},
   "outputs": [],
   "source": [
    "n = 100 # Number of points\n",
    "x_obs = np.expand_dims(np.linspace(-1,1,100), axis=-1)\n",
    "y_obs = 1.4 * x_obs - 0.5 + 0.05 * np.random.randn(n,1)"
   ]
  },
  {
   "cell_type": "code",
   "execution_count": 10,
   "id": "4a9ecd42",
   "metadata": {},
   "outputs": [
    {
     "name": "stdout",
     "output_type": "stream",
     "text": [
      "(100, 1) (100, 1)\n"
     ]
    },
    {
     "data": {
      "image/png": "[encoded data removed]",
      "text/plain": [
       "<Figure size 432x288 with 1 Axes>"
      ]
     },
     "metadata": {
      "needs_background": "light"
     },
     "output_type": "display_data"
    }
   ],
   "source": [
    "plt.plot(x_obs[:,0], y_obs[:,0], '.')\n",
    "print(x_obs.shape, y_obs.shape)"
   ]
  },
  {
   "cell_type": "code",
   "execution_count": 11,
   "id": "ef48bcf6",
   "metadata": {},
   "outputs": [
    {
     "name": "stdout",
     "output_type": "stream",
     "text": [
      "----------------------------------------------------------------\n",
      "        Layer (type)               Output Shape         Param #\n",
      "================================================================\n",
      "            Linear-1                 [-1, 1, 1]               2\n",
      "================================================================\n",
      "Total params: 2\n",
      "Trainable params: 2\n",
      "Non-trainable params: 0\n",
      "----------------------------------------------------------------\n",
      "Input size (MB): 0.00\n",
      "Forward/backward pass size (MB): 0.00\n",
      "Params size (MB): 0.00\n",
      "Estimated Total Size (MB): 0.00\n",
      "----------------------------------------------------------------\n"
     ]
    }
   ],
   "source": [
    "class modelA(nn.Module):\n",
    "    def __init__(self):\n",
    "        super(modelA, self).__init__()\n",
    "        self.linear = nn.Linear(1,1) #One layer with one neuron\n",
    "    def forward(self, x):\n",
    "        return self.linear(x) #The output is just the evaluation of the input\n",
    "\n",
    "\n",
    "mod = modelA() #Our model \n",
    "summary(mod, input_size=(1, 1))"
   ]
  },
  {
   "cell_type": "code",
   "execution_count": 12,
   "id": "9ed8fc2c",
   "metadata": {},
   "outputs": [
    {
     "name": "stdout",
     "output_type": "stream",
     "text": [
      " It :   0 - loss : 2.5747 - residual std : 1.6046\n",
      " It :  10 - loss : 1.2501 - residual std : 1.1181\n",
      " It :  20 - loss : 0.5837 - residual std : 0.7640\n",
      " It :  30 - loss : 0.2873 - residual std : 0.5360\n",
      " It :  40 - loss : 0.1120 - residual std : 0.3346\n",
      " It :  50 - loss : 0.0303 - residual std : 0.1740\n",
      " It :  60 - loss : 0.0081 - residual std : 0.0898\n",
      " It :  70 - loss : 0.0027 - residual std : 0.0523\n",
      " It :  80 - loss : 0.0026 - residual std : 0.0506\n",
      " It :  90 - loss : 0.0027 - residual std : 0.0522\n",
      " It : 100 - loss : 0.0025 - residual std : 0.0504\n",
      " It : 110 - loss : 0.0024 - residual std : 0.0491\n",
      " It : 120 - loss : 0.0024 - residual std : 0.0485\n",
      " It : 130 - loss : 0.0024 - residual std : 0.0485\n",
      " It : 140 - loss : 0.0024 - residual std : 0.0485\n",
      " It : 150 - loss : 0.0024 - residual std : 0.0485\n",
      " It : 160 - loss : 0.0024 - residual std : 0.0485\n",
      " It : 170 - loss : 0.0024 - residual std : 0.0485\n",
      " It : 180 - loss : 0.0024 - residual std : 0.0485\n",
      " It : 190 - loss : 0.0024 - residual std : 0.0485\n"
     ]
    }
   ],
   "source": [
    "optimizer = torch.optim.Adam(mod.parameters(), lr=5e-2)\n",
    "loss_fn = nn.MSELoss()\n",
    "\n",
    "x_torch = torch.from_numpy(x_obs.astype('float32'))\n",
    "y_torch = torch.from_numpy(y_obs.astype('float32'))\n",
    "\n",
    "for loop in range(200):\n",
    "    optimizer.zero_grad()        #reset gradients\n",
    "    out = mod(x_torch)           #evaluate model\n",
    "    loss = loss_fn(out, y_torch) #calculate loss\n",
    "    loss.backward()              #calculate gradients\n",
    "    optimizer.step()             #step fordward\n",
    "    if loop%10==0: print(f' It : {loop:3d} - loss : {loss.item():.4f} - residual std : {np.sqrt(loss.item()):.4f}')"
   ]
  },
  {
   "cell_type": "code",
   "execution_count": 13,
   "id": "49f954c1",
   "metadata": {},
   "outputs": [
    {
     "name": "stdout",
     "output_type": "stream",
     "text": [
      "Parameter containing:\n",
      "tensor([[1.3888]], requires_grad=True) Parameter containing:\n",
      "tensor([-0.5025], requires_grad=True)\n"
     ]
    }
   ],
   "source": [
    "print(mod.linear.weight, mod.linear.bias)"
   ]
  },
  {
   "cell_type": "code",
   "execution_count": 14,
   "id": "2660f9c6",
   "metadata": {},
   "outputs": [
    {
     "name": "stdout",
     "output_type": "stream",
     "text": [
      "(100, 1)\n"
     ]
    },
    {
     "data": {
      "text/plain": [
       "[<matplotlib.lines.Line2D at 0x7fa0c7684c10>]"
      ]
     },
     "execution_count": 14,
     "metadata": {},
     "output_type": "execute_result"
    },
    {
     "data": {
      "image/png": "[encoded data removed]",
      "text/plain": [
       "<Figure size 432x288 with 1 Axes>"
      ]
     },
     "metadata": {
      "needs_background": "light"
     },
     "output_type": "display_data"
    }
   ],
   "source": [
    "x_np = np.expand_dims(np.linspace(-1,1,100), axis=-1)\n",
    "print(x_np.shape)\n",
    "x = torch.from_numpy(x_np.astype('float32'))\n",
    "out = mod(x)\n",
    "out_np = out.detach().numpy()\n",
    "\n",
    "\n",
    "plt.plot(x_obs[:,0], y_obs[:,0], '.')\n",
    "plt.plot(x_np[:,0], out_np[:,0])"
   ]
  },
  {
   "cell_type": "code",
   "execution_count": null,
   "id": "621552e3",
   "metadata": {},
   "outputs": [],
   "source": []
  }
 ],
 "metadata": {
  "kernelspec": {
   "display_name": "Python 3 (ipykernel)",
   "language": "python",
   "name": "python3"
  },
  "language_info": {
   "codemirror_mode": {
    "name": "ipython",
    "version": 3
   },
   "file_extension": ".py",
   "mimetype": "text/x-python",
   "name": "python",
   "nbconvert_exporter": "python",
   "pygments_lexer": "ipython3",
   "version": "3.8.8"
  }
 },
 "nbformat": 4,
 "nbformat_minor": 5
}
