{
 "cells": [
  {
   "cell_type": "markdown",
   "id": "c2200bad",
   "metadata": {},
   "source": [
    "## A simple Autoencoder to be trained on GPU/CPU \n",
    "\n",
    "### Aimed at compressing Stokes I (for now) for synthesized observed photospheric spectral lines \n",
    "\n",
    "### various training and validation sets available at: \n",
    "\n",
    "https://drive.google.com/drive/folders/1SO4FyyX_X878FAcU7k1zD6AkOvFyWMH4?usp=sharing"
   ]
  },
  {
   "cell_type": "code",
   "execution_count": 1,
   "id": "d39ae437",
   "metadata": {},
   "outputs": [
    {
     "data": {
      "text/html": [
       "<style>.container { width:80% !important; }</style>"
      ],
      "text/plain": [
       "<IPython.core.display.HTML object>"
      ]
     },
     "metadata": {},
     "output_type": "display_data"
    }
   ],
   "source": [
    "# Initial imports\n",
    "\n",
    "import numpy as np\n",
    "import matplotlib.pyplot as plt\n",
    "import torch\n",
    "import torch.nn as nn\n",
    "import torch.nn.functional as F\n",
    "from torch.autograd import Variable\n",
    "from torchsummary import summary #https://github.com/sksq96/pytorch-summary\n",
    "torch.manual_seed(1234)\n",
    "np.random.seed(1234)\n",
    "from torch.utils.data import Subset\n",
    "\n",
    "from IPython.display import display, HTML\n",
    "display(HTML(\"<style>.container { width:80% !important; }</style>\"))"
   ]
  },
  {
   "cell_type": "code",
   "execution_count": 2,
   "id": "c10e60d0",
   "metadata": {},
   "outputs": [],
   "source": [
    "class conv_ae(nn.Module):\n",
    "    \n",
    "    def __init__(self, inputsize, bottleneck):\n",
    "        \n",
    "        super(conv_ae, self).__init__()\n",
    "        \n",
    "        self.NS = inputsize[0]\n",
    "        self.NL = inputsize[1]\n",
    "        \n",
    "        # Encoder part:\n",
    "        \n",
    "        self.conv1 = nn.Conv1d(self.NS, 8, 3, padding=1, padding_mode='replicate')\n",
    "        self.conv2 = nn.Conv1d(8, 8, 3, padding=1, padding_mode='replicate')\n",
    "        \n",
    "        self.maxpool2 = nn.MaxPool1d(2)\n",
    "        \n",
    "        self.linear1 = nn.Linear(8*self.NL//4, 60)\n",
    "        self.linear2 = nn.Linear(60, 30)\n",
    "        self.linear3 = nn.Linear(30, bottleneck)\n",
    "        \n",
    "        self.ractivation = nn.ReLU()\n",
    "        self.sactivation = nn.Sigmoid()\n",
    "        \n",
    "        # Decoder part:\n",
    "        \n",
    "        self.linear1o = nn.Linear(bottleneck, 30)\n",
    "        self.linear2o = nn.Linear(30,60)\n",
    "        self.linear3o = nn.Linear(60, 8*self.NL//4)\n",
    "        \n",
    "        self.upsample2 = nn.Upsample(scale_factor=2, mode='nearest')\n",
    "        \n",
    "        self.conv1o = nn.Conv1d(8, 8, 3, padding=1, padding_mode='replicate')\n",
    "        self.conv2o = nn.Conv1d(8, self.NS, 3, padding=1, padding_mode='replicate')\n",
    "        \n",
    "        \n",
    "        \n",
    "    def encode (self, x):\n",
    "        \n",
    "        out = self.conv1(x)\n",
    "        out = self.maxpool2(out)\n",
    "        out = self.ractivation(out)\n",
    "        \n",
    "        out = self.conv2(out)\n",
    "        out = self.maxpool2(out)\n",
    "        out = self.ractivation(out)\n",
    "        \n",
    "        out = torch.reshape(out, (-1,))\n",
    "        \n",
    "        out = self.linear1(out)\n",
    "        out = self.ractivation(out)\n",
    "        out = self.linear2(out)\n",
    "        out = self.ractivation(out)\n",
    "        out = self.linear3(out)\n",
    "        out = self.sactivation(out)\n",
    "        \n",
    "        return out\n",
    "    \n",
    "    def decode (self, x):\n",
    "        \n",
    "        out = self.linear1o(x)\n",
    "        out = self.ractivation(out)\n",
    "        out = self.linear2o(out)\n",
    "        out = self.ractivation(out)\n",
    "        out = self.linear3o(out)\n",
    "        out = self.ractivation(out)\n",
    "        \n",
    "        out = torch.reshape(out,(1,8,-1,))\n",
    "        \n",
    "        \n",
    "        out = self.upsample2(out)\n",
    "        out = torch.reshape(out,(8,-1,))\n",
    "        out = self.conv1o(out)\n",
    "        out = self.ractivation(out)\n",
    "        \n",
    "        out = torch.reshape(out,(1,8,-1,))\n",
    "        out = self.upsample2(out)\n",
    "        out = torch.reshape(out,(8,-1,))\n",
    "        out = self.conv2o(out)\n",
    "        out = self.sactivation(out)\n",
    "        \n",
    "        return out\n",
    "    \n",
    "    def forward(self, x):\n",
    "        \n",
    "        compressed = self.encode(x);\n",
    "        restored   = self.decode(compressed);\n",
    "        \n",
    "        return restored;"
   ]
  },
  {
   "cell_type": "code",
   "execution_count": 3,
   "id": "34333db0",
   "metadata": {},
   "outputs": [],
   "source": [
    "def make_conv_model(cudaoption, inputsize, bottleneck):\n",
    "    \n",
    "    model = conv_ae(inputsize, bottleneck)\n",
    "    \n",
    "    if (cudaoption):\n",
    "        print('[INFO] Cuda model:',torch.cuda.get_device_name(0))\n",
    "        model = model.to(device)\n",
    "        \n",
    "        print('[INFO] Parameters in GPU:',next(model.parameters()).is_cuda) \n",
    "        \n",
    "    return model \n",
    "\n",
    "def conv_model_encode (model, inputdata, cudaoption):\n",
    "    \n",
    "    if cudaoption:\n",
    "        \n",
    "        model = model.to(device)\n",
    "        inputdata = inputdata.to(device)\n",
    "        \n",
    "    output = model.encode(inputdata)\n",
    "    \n",
    "    output = output.to(\"cpu\")\n",
    "    return output\n",
    "\n",
    "def conv_model_decode (model, inputdata, cudaoption):\n",
    "    \n",
    "    if cudaoption:\n",
    "        \n",
    "        model = model.to(device)\n",
    "        inputdata = inputdata.to(device)\n",
    "        \n",
    "    output = model.decode(inputdata)\n",
    "    \n",
    "    output = output.to(\"cpu\")\n",
    "    return output\n",
    "\n",
    "def conv_model_predict(model, inputdata, cudaoption):\n",
    "    \n",
    "    if cudaoption:\n",
    "        \n",
    "        model = model.to(device)\n",
    "        inputdata = inputdata.to(device)\n",
    "        \n",
    "    output = model.forward(inputdata)\n",
    "    \n",
    "    output = output.to(\"cpu\")\n",
    "    return output\n",
    "    "
   ]
  },
  {
   "cell_type": "code",
   "execution_count": 4,
   "id": "cd4b7858",
   "metadata": {},
   "outputs": [
    {
     "name": "stdout",
     "output_type": "stream",
     "text": [
      "[INFO] Cuda: True\n",
      "[INFO] Cuda device: cuda:0\n",
      "[INFO] Cuda model: NVIDIA GeForce RTX 2060 with Max-Q Design\n",
      "[INFO] Parameters in GPU: True\n"
     ]
    }
   ],
   "source": [
    "cudaoption = torch.cuda.is_available()\n",
    "device = torch.device(\"cuda:0\" if cudaoption else \"cpu\")\n",
    "print('[INFO] Cuda:', cudaoption)\n",
    "print('[INFO] Cuda device:', device)\n",
    "ae_model = make_conv_model(cudaoption, [4, 112], 12)"
   ]
  },
  {
   "cell_type": "code",
   "execution_count": 5,
   "id": "6476a025",
   "metadata": {},
   "outputs": [
    {
     "name": "stdout",
     "output_type": "stream",
     "text": [
      "(4, 112)\n"
     ]
    },
    {
     "data": {
      "text/plain": [
       "torch.Size([12])"
      ]
     },
     "execution_count": 5,
     "metadata": {},
     "output_type": "execute_result"
    }
   ],
   "source": [
    "random_in = np.random.uniform(0, 1, (4,112))\n",
    "print(random_in.shape)\n",
    "\n",
    "data_torch = torch.from_numpy(random_in.astype('float32'))\n",
    "\n",
    "test = conv_model_encode(ae_model, data_torch, cudaoption)\n",
    "\n",
    "test.shape"
   ]
  },
  {
   "cell_type": "code",
   "execution_count": 6,
   "id": "1de06b18",
   "metadata": {},
   "outputs": [
    {
     "data": {
      "text/plain": [
       "torch.Size([4, 112])"
      ]
     },
     "execution_count": 6,
     "metadata": {},
     "output_type": "execute_result"
    }
   ],
   "source": [
    "test_out = conv_model_decode(ae_model, test, cudaoption)\n",
    "test_out.shape"
   ]
  },
  {
   "cell_type": "code",
   "execution_count": 7,
   "id": "55667630",
   "metadata": {},
   "outputs": [
    {
     "data": {
      "text/plain": [
       "torch.Size([4, 112])"
      ]
     },
     "execution_count": 7,
     "metadata": {},
     "output_type": "execute_result"
    }
   ],
   "source": [
    "test_predict = conv_model_predict(ae_model, data_torch, cudaoption)\n",
    "test_predict.shape"
   ]
  },
  {
   "cell_type": "markdown",
   "id": "6762dc09",
   "metadata": {},
   "source": [
    "### Ok, creating the model and making sure GPU works is done, now let's see what happens with data."
   ]
  },
  {
   "cell_type": "code",
   "execution_count": 8,
   "id": "ce0e77d9",
   "metadata": {},
   "outputs": [],
   "source": [
    "from astropy.io import fits "
   ]
  },
  {
   "cell_type": "code",
   "execution_count": 9,
   "id": "7b8b6747",
   "metadata": {},
   "outputs": [],
   "source": [
    "data = fits.open(\"C:/Data/Hinode_ML_compression/training_sample_5c_vector.fits\")[0].data"
   ]
  },
  {
   "cell_type": "code",
   "execution_count": 10,
   "id": "88dcb692",
   "metadata": {},
   "outputs": [
    {
     "data": {
      "text/plain": [
       "(150000, 4, 112)"
      ]
     },
     "execution_count": 10,
     "metadata": {},
     "output_type": "execute_result"
    }
   ],
   "source": [
    "data.shape"
   ]
  },
  {
   "cell_type": "code",
   "execution_count": 11,
   "id": "8a985395",
   "metadata": {},
   "outputs": [],
   "source": [
    "#stokes = stokes[:256,:256,0,:]\n",
    "#print (stokes.shape)\n",
    "#stokes = stokes[:,:,::2]\n",
    "#print (stokes.shape)\n",
    "#data = stokes.reshape(256*256,201)"
   ]
  },
  {
   "cell_type": "code",
   "execution_count": 12,
   "id": "aa1bfb67",
   "metadata": {},
   "outputs": [],
   "source": [
    "#del(stokes)"
   ]
  },
  {
   "cell_type": "code",
   "execution_count": 13,
   "id": "da805512",
   "metadata": {},
   "outputs": [
    {
     "data": {
      "text/plain": [
       "[<matplotlib.lines.Line2D at 0x16f70920760>]"
      ]
     },
     "execution_count": 13,
     "metadata": {},
     "output_type": "execute_result"
    },
    {
     "data": {
      "image/png": "[encoded data removed]",
      "text/plain": [
       "<Figure size 432x288 with 1 Axes>"
      ]
     },
     "metadata": {
      "needs_background": "light"
     },
     "output_type": "display_data"
    }
   ],
   "source": [
    "plt.plot(data[0,0])"
   ]
  },
  {
   "cell_type": "code",
   "execution_count": 14,
   "id": "2670983a",
   "metadata": {},
   "outputs": [],
   "source": [
    "data_norm = np.copy(data)"
   ]
  },
  {
   "cell_type": "code",
   "execution_count": 15,
   "id": "9ef6ce2f",
   "metadata": {},
   "outputs": [],
   "source": [
    "# If you want to normalize wavelength wise (not a good idea imho)\n",
    "\n",
    "#for l in range(0,201):\n",
    "#    data_norm[:,l] = (data[:,l] - np.amin(data[:,l])) / (np.amax(data[:,l])-np.amin(data[:,l]))"
   ]
  },
  {
   "cell_type": "code",
   "execution_count": 16,
   "id": "280c01f6",
   "metadata": {},
   "outputs": [],
   "source": [
    "dmax = np.amax(data[:,0,:])\n",
    "dmin = np.amin(data[:,0,:])"
   ]
  },
  {
   "cell_type": "code",
   "execution_count": 17,
   "id": "add70930",
   "metadata": {},
   "outputs": [],
   "source": [
    "data_norm[:,:,:] = (data[:,:,:] - np.amin(data[:,:])) / (np.amax(data[:,:,:])-np.amin(data[:,:,:]))"
   ]
  },
  {
   "cell_type": "code",
   "execution_count": 18,
   "id": "ecb643e1",
   "metadata": {},
   "outputs": [
    {
     "data": {
      "image/png": "[encoded data removed]",
      "text/plain": [
       "<Figure size 432x288 with 1 Axes>"
      ]
     },
     "metadata": {
      "needs_background": "light"
     },
     "output_type": "display_data"
    }
   ],
   "source": [
    "plt.plot(data_norm[0,0])\n",
    "data_norm[:,1:4,:] *= 5.0"
   ]
  },
  {
   "cell_type": "code",
   "execution_count": 19,
   "id": "ef06be1a",
   "metadata": {},
   "outputs": [],
   "source": [
    "#del(data)"
   ]
  },
  {
   "cell_type": "code",
   "execution_count": 20,
   "id": "b4d31bbb",
   "metadata": {},
   "outputs": [
    {
     "data": {
      "text/plain": [
       "torch.Size([150000, 4, 112])"
      ]
     },
     "execution_count": 20,
     "metadata": {},
     "output_type": "execute_result"
    }
   ],
   "source": [
    "data_torch = torch.from_numpy(data_norm.astype('float32'))\n",
    "data_torch.shape"
   ]
  },
  {
   "cell_type": "code",
   "execution_count": 24,
   "id": "18419a5f",
   "metadata": {},
   "outputs": [
    {
     "ename": "RuntimeError",
     "evalue": "mat1 and mat2 shapes cannot be multiplied (1x2240 and 224x60)",
     "output_type": "error",
     "traceback": [
      "\u001b[1;31m---------------------------------------------------------------------------\u001b[0m",
      "\u001b[1;31mRuntimeError\u001b[0m                              Traceback (most recent call last)",
      "\u001b[1;32m<ipython-input-24-1b7607df0286>\u001b[0m in \u001b[0;36m<module>\u001b[1;34m\u001b[0m\n\u001b[1;32m----> 1\u001b[1;33m \u001b[0mtest_output\u001b[0m \u001b[1;33m=\u001b[0m \u001b[0mconv_model_predict\u001b[0m\u001b[1;33m(\u001b[0m\u001b[0mae_model\u001b[0m\u001b[1;33m,\u001b[0m\u001b[0mdata_torch\u001b[0m\u001b[1;33m[\u001b[0m\u001b[1;33m:\u001b[0m\u001b[1;36m10\u001b[0m\u001b[1;33m,\u001b[0m\u001b[1;33m:\u001b[0m\u001b[1;33m,\u001b[0m\u001b[1;33m:\u001b[0m\u001b[1;33m]\u001b[0m\u001b[1;33m,\u001b[0m\u001b[0mcudaoption\u001b[0m\u001b[1;33m)\u001b[0m\u001b[1;33m\u001b[0m\u001b[1;33m\u001b[0m\u001b[0m\n\u001b[0m",
      "\u001b[1;32m<ipython-input-3-d4d621a738c2>\u001b[0m in \u001b[0;36mconv_model_predict\u001b[1;34m(model, inputdata, cudaoption)\u001b[0m\n\u001b[0;32m     42\u001b[0m         \u001b[0minputdata\u001b[0m \u001b[1;33m=\u001b[0m \u001b[0minputdata\u001b[0m\u001b[1;33m.\u001b[0m\u001b[0mto\u001b[0m\u001b[1;33m(\u001b[0m\u001b[0mdevice\u001b[0m\u001b[1;33m)\u001b[0m\u001b[1;33m\u001b[0m\u001b[1;33m\u001b[0m\u001b[0m\n\u001b[0;32m     43\u001b[0m \u001b[1;33m\u001b[0m\u001b[0m\n\u001b[1;32m---> 44\u001b[1;33m     \u001b[0moutput\u001b[0m \u001b[1;33m=\u001b[0m \u001b[0mmodel\u001b[0m\u001b[1;33m.\u001b[0m\u001b[0mforward\u001b[0m\u001b[1;33m(\u001b[0m\u001b[0minputdata\u001b[0m\u001b[1;33m)\u001b[0m\u001b[1;33m\u001b[0m\u001b[1;33m\u001b[0m\u001b[0m\n\u001b[0m\u001b[0;32m     45\u001b[0m \u001b[1;33m\u001b[0m\u001b[0m\n\u001b[0;32m     46\u001b[0m     \u001b[0moutput\u001b[0m \u001b[1;33m=\u001b[0m \u001b[0moutput\u001b[0m\u001b[1;33m.\u001b[0m\u001b[0mto\u001b[0m\u001b[1;33m(\u001b[0m\u001b[1;34m\"cpu\"\u001b[0m\u001b[1;33m)\u001b[0m\u001b[1;33m\u001b[0m\u001b[1;33m\u001b[0m\u001b[0m\n",
      "\u001b[1;32m<ipython-input-2-eaef0e9adba4>\u001b[0m in \u001b[0;36mforward\u001b[1;34m(self, x)\u001b[0m\n\u001b[0;32m     83\u001b[0m     \u001b[1;32mdef\u001b[0m \u001b[0mforward\u001b[0m\u001b[1;33m(\u001b[0m\u001b[0mself\u001b[0m\u001b[1;33m,\u001b[0m \u001b[0mx\u001b[0m\u001b[1;33m)\u001b[0m\u001b[1;33m:\u001b[0m\u001b[1;33m\u001b[0m\u001b[1;33m\u001b[0m\u001b[0m\n\u001b[0;32m     84\u001b[0m \u001b[1;33m\u001b[0m\u001b[0m\n\u001b[1;32m---> 85\u001b[1;33m         \u001b[0mcompressed\u001b[0m \u001b[1;33m=\u001b[0m \u001b[0mself\u001b[0m\u001b[1;33m.\u001b[0m\u001b[0mencode\u001b[0m\u001b[1;33m(\u001b[0m\u001b[0mx\u001b[0m\u001b[1;33m)\u001b[0m\u001b[1;33m;\u001b[0m\u001b[1;33m\u001b[0m\u001b[1;33m\u001b[0m\u001b[0m\n\u001b[0m\u001b[0;32m     86\u001b[0m         \u001b[0mrestored\u001b[0m   \u001b[1;33m=\u001b[0m \u001b[0mself\u001b[0m\u001b[1;33m.\u001b[0m\u001b[0mdecode\u001b[0m\u001b[1;33m(\u001b[0m\u001b[0mcompressed\u001b[0m\u001b[1;33m)\u001b[0m\u001b[1;33m;\u001b[0m\u001b[1;33m\u001b[0m\u001b[1;33m\u001b[0m\u001b[0m\n\u001b[0;32m     87\u001b[0m \u001b[1;33m\u001b[0m\u001b[0m\n",
      "\u001b[1;32m<ipython-input-2-eaef0e9adba4>\u001b[0m in \u001b[0;36mencode\u001b[1;34m(self, x)\u001b[0m\n\u001b[0;32m     47\u001b[0m         \u001b[0mout\u001b[0m \u001b[1;33m=\u001b[0m \u001b[0mtorch\u001b[0m\u001b[1;33m.\u001b[0m\u001b[0mreshape\u001b[0m\u001b[1;33m(\u001b[0m\u001b[0mout\u001b[0m\u001b[1;33m,\u001b[0m \u001b[1;33m(\u001b[0m\u001b[1;33m-\u001b[0m\u001b[1;36m1\u001b[0m\u001b[1;33m,\u001b[0m\u001b[1;33m)\u001b[0m\u001b[1;33m)\u001b[0m\u001b[1;33m\u001b[0m\u001b[1;33m\u001b[0m\u001b[0m\n\u001b[0;32m     48\u001b[0m \u001b[1;33m\u001b[0m\u001b[0m\n\u001b[1;32m---> 49\u001b[1;33m         \u001b[0mout\u001b[0m \u001b[1;33m=\u001b[0m \u001b[0mself\u001b[0m\u001b[1;33m.\u001b[0m\u001b[0mlinear1\u001b[0m\u001b[1;33m(\u001b[0m\u001b[0mout\u001b[0m\u001b[1;33m)\u001b[0m\u001b[1;33m\u001b[0m\u001b[1;33m\u001b[0m\u001b[0m\n\u001b[0m\u001b[0;32m     50\u001b[0m         \u001b[0mout\u001b[0m \u001b[1;33m=\u001b[0m \u001b[0mself\u001b[0m\u001b[1;33m.\u001b[0m\u001b[0mractivation\u001b[0m\u001b[1;33m(\u001b[0m\u001b[0mout\u001b[0m\u001b[1;33m)\u001b[0m\u001b[1;33m\u001b[0m\u001b[1;33m\u001b[0m\u001b[0m\n\u001b[0;32m     51\u001b[0m         \u001b[0mout\u001b[0m \u001b[1;33m=\u001b[0m \u001b[0mself\u001b[0m\u001b[1;33m.\u001b[0m\u001b[0mlinear2\u001b[0m\u001b[1;33m(\u001b[0m\u001b[0mout\u001b[0m\u001b[1;33m)\u001b[0m\u001b[1;33m\u001b[0m\u001b[1;33m\u001b[0m\u001b[0m\n",
      "\u001b[1;32m~\\anaconda3\\lib\\site-packages\\torch\\nn\\modules\\module.py\u001b[0m in \u001b[0;36m_call_impl\u001b[1;34m(self, *input, **kwargs)\u001b[0m\n\u001b[0;32m   1128\u001b[0m         if not (self._backward_hooks or self._forward_hooks or self._forward_pre_hooks or _global_backward_hooks\n\u001b[0;32m   1129\u001b[0m                 or _global_forward_hooks or _global_forward_pre_hooks):\n\u001b[1;32m-> 1130\u001b[1;33m             \u001b[1;32mreturn\u001b[0m \u001b[0mforward_call\u001b[0m\u001b[1;33m(\u001b[0m\u001b[1;33m*\u001b[0m\u001b[0minput\u001b[0m\u001b[1;33m,\u001b[0m \u001b[1;33m**\u001b[0m\u001b[0mkwargs\u001b[0m\u001b[1;33m)\u001b[0m\u001b[1;33m\u001b[0m\u001b[1;33m\u001b[0m\u001b[0m\n\u001b[0m\u001b[0;32m   1131\u001b[0m         \u001b[1;31m# Do not call functions when jit is used\u001b[0m\u001b[1;33m\u001b[0m\u001b[1;33m\u001b[0m\u001b[1;33m\u001b[0m\u001b[0m\n\u001b[0;32m   1132\u001b[0m         \u001b[0mfull_backward_hooks\u001b[0m\u001b[1;33m,\u001b[0m \u001b[0mnon_full_backward_hooks\u001b[0m \u001b[1;33m=\u001b[0m \u001b[1;33m[\u001b[0m\u001b[1;33m]\u001b[0m\u001b[1;33m,\u001b[0m \u001b[1;33m[\u001b[0m\u001b[1;33m]\u001b[0m\u001b[1;33m\u001b[0m\u001b[1;33m\u001b[0m\u001b[0m\n",
      "\u001b[1;32m~\\anaconda3\\lib\\site-packages\\torch\\nn\\modules\\linear.py\u001b[0m in \u001b[0;36mforward\u001b[1;34m(self, input)\u001b[0m\n\u001b[0;32m    112\u001b[0m \u001b[1;33m\u001b[0m\u001b[0m\n\u001b[0;32m    113\u001b[0m     \u001b[1;32mdef\u001b[0m \u001b[0mforward\u001b[0m\u001b[1;33m(\u001b[0m\u001b[0mself\u001b[0m\u001b[1;33m,\u001b[0m \u001b[0minput\u001b[0m\u001b[1;33m:\u001b[0m \u001b[0mTensor\u001b[0m\u001b[1;33m)\u001b[0m \u001b[1;33m->\u001b[0m \u001b[0mTensor\u001b[0m\u001b[1;33m:\u001b[0m\u001b[1;33m\u001b[0m\u001b[1;33m\u001b[0m\u001b[0m\n\u001b[1;32m--> 114\u001b[1;33m         \u001b[1;32mreturn\u001b[0m \u001b[0mF\u001b[0m\u001b[1;33m.\u001b[0m\u001b[0mlinear\u001b[0m\u001b[1;33m(\u001b[0m\u001b[0minput\u001b[0m\u001b[1;33m,\u001b[0m \u001b[0mself\u001b[0m\u001b[1;33m.\u001b[0m\u001b[0mweight\u001b[0m\u001b[1;33m,\u001b[0m \u001b[0mself\u001b[0m\u001b[1;33m.\u001b[0m\u001b[0mbias\u001b[0m\u001b[1;33m)\u001b[0m\u001b[1;33m\u001b[0m\u001b[1;33m\u001b[0m\u001b[0m\n\u001b[0m\u001b[0;32m    115\u001b[0m \u001b[1;33m\u001b[0m\u001b[0m\n\u001b[0;32m    116\u001b[0m     \u001b[1;32mdef\u001b[0m \u001b[0mextra_repr\u001b[0m\u001b[1;33m(\u001b[0m\u001b[0mself\u001b[0m\u001b[1;33m)\u001b[0m \u001b[1;33m->\u001b[0m \u001b[0mstr\u001b[0m\u001b[1;33m:\u001b[0m\u001b[1;33m\u001b[0m\u001b[1;33m\u001b[0m\u001b[0m\n",
      "\u001b[1;31mRuntimeError\u001b[0m: mat1 and mat2 shapes cannot be multiplied (1x2240 and 224x60)"
     ]
    }
   ],
   "source": [
    "test_output = conv_model_predict(ae_model,data_torch[:10,:,:],cudaoption)"
   ]
  },
  {
   "cell_type": "code",
   "execution_count": 23,
   "id": "5653ec32",
   "metadata": {},
   "outputs": [
    {
     "data": {
      "text/plain": [
       "torch.Size([4, 112])"
      ]
     },
     "execution_count": 23,
     "metadata": {},
     "output_type": "execute_result"
    }
   ],
   "source": [
    "test_output.shape"
   ]
  },
  {
   "cell_type": "code",
   "execution_count": null,
   "id": "8bb91e66",
   "metadata": {},
   "outputs": [],
   "source": [
    "plt.plot(test_output[0].detach().numpy())"
   ]
  },
  {
   "cell_type": "code",
   "execution_count": null,
   "id": "baf2f4b0",
   "metadata": {},
   "outputs": [],
   "source": [
    "test_compress = model_encode(ae_model, data_torch[:10],cudaoption)\n",
    "test_compress.shape"
   ]
  },
  {
   "cell_type": "code",
   "execution_count": null,
   "id": "9c780ffb",
   "metadata": {},
   "outputs": [],
   "source": [
    "plt.plot(test_compress[0].detach().numpy())"
   ]
  },
  {
   "cell_type": "code",
   "execution_count": null,
   "id": "b720bcba",
   "metadata": {},
   "outputs": [],
   "source": [
    "## Let's make a function to train:\n",
    "\n",
    "def compilefit(model, data, nepochs, criterion, cudaoption, lri, output_interval, batch):\n",
    "    \n",
    "    optimizer = torch.optim.Adam(model.parameters(), lr = lri)\n",
    "    loss_fn = nn.MSELoss()\n",
    "    \n",
    "    if cudaoption:\n",
    "        data = data.to(device)\n",
    "        \n",
    "    performance = np.zeros(nepochs)\n",
    "    \n",
    "    N_data = len(data[:,0])\n",
    "    N_batches = N_data // batch\n",
    "            \n",
    "    for i in range(0,nepochs):\n",
    "        \n",
    "        indices = np.arange(N_data)\n",
    "        indices = np.random.permutation(indices)\n",
    "        \n",
    "        #for j in range(0, N_batches):\n",
    "            \n",
    "            #data_batch = Subset(data, indices[j*batch:(j+1)*batch])\n",
    "        \n",
    "        optimizer.zero_grad()\n",
    "        out = model.forward(data)\n",
    "             \n",
    "        loss = loss_fn(data,out)\n",
    "        loss.backward()\n",
    "        optimizer.step()\n",
    "        performance[i] = loss.item()\n",
    "            \n",
    "        if (i+1)%int(output_interval)==0: print(f' It : {i+1:3d} - loss : {loss.item():.6f} - residual std : {np.sqrt(loss.item()):.6f}')\n",
    "    return performance"
   ]
  },
  {
   "cell_type": "code",
   "execution_count": null,
   "id": "2f36b444",
   "metadata": {},
   "outputs": [],
   "source": [
    "# Create model again as the above was just testing:\n",
    "ae_model = make_model(cudaoption, 112, 8)"
   ]
  },
  {
   "cell_type": "code",
   "execution_count": null,
   "id": "fdfddfa1",
   "metadata": {},
   "outputs": [],
   "source": [
    "summary(ae_model,input_size=(1,112))"
   ]
  },
  {
   "cell_type": "code",
   "execution_count": null,
   "id": "9230aae6",
   "metadata": {},
   "outputs": [],
   "source": [
    "nepochs = 1000\n",
    "\n",
    "#convergence = compilefit(ae_model, data_torch, 1000, 0, cudaoption, 1E-2, 200, 256)\n",
    "#convergence = compilefit(ae_model, data_torch, 5000, 0, cudaoption, 5E-3, 200, 256)\n",
    "#convergence = compilefit(ae_model, data_torch, 20000, 0, cudaoption, 2E-3, 200, 256)\n",
    "convergence = compilefit(ae_model, data_torch, 20000, 0, cudaoption, 1E-3, 200, 256)"
   ]
  },
  {
   "cell_type": "code",
   "execution_count": null,
   "id": "67901041",
   "metadata": {},
   "outputs": [],
   "source": [
    "plt.figure(figsize=[10,6])\n",
    "plt.semilogy(convergence) "
   ]
  },
  {
   "cell_type": "code",
   "execution_count": null,
   "id": "d1b4c7d1",
   "metadata": {},
   "outputs": [],
   "source": [
    "test_train = test_output = model_predict(ae_model,data_torch[:10],cudaoption)\n",
    "test_train.shape"
   ]
  },
  {
   "cell_type": "code",
   "execution_count": null,
   "id": "8ec787bd",
   "metadata": {},
   "outputs": [],
   "source": [
    "bla = test_train.detach().numpy()"
   ]
  },
  {
   "cell_type": "code",
   "execution_count": null,
   "id": "7effcddc",
   "metadata": {},
   "outputs": [],
   "source": [
    "plt.figure(figsize=[10,7])\n",
    "plt.subplot(121)\n",
    "for i in range(0,10):\n",
    "    plt.plot(bla[i])\n",
    "plt.subplot(122)\n",
    "for i in range(0,10):\n",
    "    plt.plot(data_norm[i])\n",
    "\n"
   ]
  },
  {
   "cell_type": "markdown",
   "id": "471c9862",
   "metadata": {},
   "source": [
    "### Here we do some statistical analysis of the \"compression\""
   ]
  },
  {
   "cell_type": "code",
   "execution_count": null,
   "id": "44e3ccea",
   "metadata": {},
   "outputs": [],
   "source": [
    "test_output = model_predict(ae_model,data_torch,cudaoption)"
   ]
  },
  {
   "cell_type": "code",
   "execution_count": null,
   "id": "2723d639",
   "metadata": {},
   "outputs": [],
   "source": [
    "data_reconstructed = test_output.detach().numpy()"
   ]
  },
  {
   "cell_type": "code",
   "execution_count": null,
   "id": "c2694e50",
   "metadata": {},
   "outputs": [],
   "source": [
    "# de-normalize\n",
    "\n",
    "data_reconstructed  = data_reconstructed * (dmax-dmin) + dmin"
   ]
  },
  {
   "cell_type": "code",
   "execution_count": null,
   "id": "a0474227",
   "metadata": {},
   "outputs": [],
   "source": [
    "noise = np.mean(data[:,0]) * 7E-3\n",
    "\n",
    "residual = (data - data_reconstructed)\n",
    "residual /= noise\n",
    "residual = residual**2.0\n",
    "print (len(residual))\n",
    "chisq = np.sum(residual,axis=1) / 201\n",
    "print (np.mean(chisq))\n",
    "print (np.median(chisq))"
   ]
  },
  {
   "cell_type": "code",
   "execution_count": null,
   "id": "06eb2558",
   "metadata": {},
   "outputs": [],
   "source": [
    "plt.figure(figsize=[10,7])\n",
    "plt.hist(chisq,bins=50,range=[0,5])"
   ]
  },
  {
   "cell_type": "code",
   "execution_count": null,
   "id": "cccf892d",
   "metadata": {},
   "outputs": [],
   "source": [
    "# Example plots \n",
    "\n",
    "i = 4513\n",
    "\n",
    "plt.figure(figsize=[10,6])\n",
    "plt.plot(data[i], label = 'Original')\n",
    "plt.plot(data_reconstructed[i], label = 'Compressed')\n",
    "plt.legend()"
   ]
  },
  {
   "cell_type": "code",
   "execution_count": null,
   "id": "88433676",
   "metadata": {},
   "outputs": [],
   "source": [
    "torch.save(ae_model, 'hinode_encoding_8.pt')"
   ]
  },
  {
   "cell_type": "markdown",
   "id": "b7a2ea2d",
   "metadata": {},
   "source": [
    "### Simple validation here:"
   ]
  },
  {
   "cell_type": "code",
   "execution_count": null,
   "id": "92bed293",
   "metadata": {},
   "outputs": [],
   "source": [
    "ae_model = torch.load('hinode_encoding_6.pt')"
   ]
  },
  {
   "cell_type": "code",
   "execution_count": null,
   "id": "3dc21e3c",
   "metadata": {},
   "outputs": [],
   "source": [
    "data_val = fits.open(\"C:/Data/Hinode_ML_compression/qs_ph_disk_center_synth_1_1_hinodewvl.fits\")[0].data"
   ]
  },
  {
   "cell_type": "code",
   "execution_count": null,
   "id": "55302b4f",
   "metadata": {},
   "outputs": [],
   "source": [
    "data_val = data_val[:,:,0,:].reshape(768*768, 112)"
   ]
  },
  {
   "cell_type": "code",
   "execution_count": null,
   "id": "1e2cd460",
   "metadata": {},
   "outputs": [],
   "source": [
    "data_val = (data_val - dmin) / (dmax-dmin)"
   ]
  },
  {
   "cell_type": "code",
   "execution_count": null,
   "id": "3c0b9b69",
   "metadata": {},
   "outputs": [],
   "source": [
    "data_val = torch.from_numpy(data_val.astype('float32'))"
   ]
  },
  {
   "cell_type": "code",
   "execution_count": null,
   "id": "d15735bf",
   "metadata": {},
   "outputs": [],
   "source": [
    "data_val_predicted = model_predict(ae_model,data_val, cudaoption)"
   ]
  },
  {
   "cell_type": "code",
   "execution_count": null,
   "id": "a175b464",
   "metadata": {},
   "outputs": [],
   "source": [
    "data_val_predicted = data_val_predicted.detach().numpy()\n",
    "data_val = data_val.detach().numpy()"
   ]
  },
  {
   "cell_type": "code",
   "execution_count": null,
   "id": "d9ce3fc6",
   "metadata": {},
   "outputs": [],
   "source": [
    "data_val_predicted = data_val_predicted * (dmax-dmin) + dmin\n",
    "data_val = data_val * (dmax-dmin) + dmin"
   ]
  },
  {
   "cell_type": "code",
   "execution_count": null,
   "id": "493b1b70",
   "metadata": {},
   "outputs": [],
   "source": [
    "#noise = np.mean(data[:,0]) * 7E-3\n",
    "\n",
    "residual = (data_val - data_val_predicted)\n",
    "residual /= noise\n",
    "residual = residual**2.0\n",
    "print (len(residual))\n",
    "chisq = np.sum(residual,axis=1) / 112\n",
    "print (np.mean(chisq))\n",
    "print (np.median(chisq))"
   ]
  },
  {
   "cell_type": "code",
   "execution_count": null,
   "id": "e23c4536",
   "metadata": {},
   "outputs": [],
   "source": [
    "plt.figure(figsize=[10,7])\n",
    "plt.hist(chisq.flatten(),bins=50,range=[0,5])"
   ]
  },
  {
   "cell_type": "code",
   "execution_count": null,
   "id": "a3f5aeea",
   "metadata": {},
   "outputs": [],
   "source": [
    "# Example plots \n",
    "\n",
    "i = 1313\n",
    "\n",
    "plt.figure(figsize=[10,6])\n",
    "plt.plot(data_val[i])\n",
    "plt.plot(data_val_predicted[i])"
   ]
  },
  {
   "cell_type": "code",
   "execution_count": null,
   "id": "3433fe13",
   "metadata": {},
   "outputs": [],
   "source": [
    "data_val = torch.from_numpy(data_val.astype('float32'))\n",
    "data_val_compressed = model_encode(ae_model,data_val, cudaoption)"
   ]
  },
  {
   "cell_type": "code",
   "execution_count": null,
   "id": "27c8c871",
   "metadata": {},
   "outputs": [],
   "source": [
    "data_val_compressed = data_val_compressed.detach().numpy()"
   ]
  },
  {
   "cell_type": "code",
   "execution_count": null,
   "id": "94fd4833",
   "metadata": {},
   "outputs": [],
   "source": [
    "data_val_compressed = data_val_compressed.reshape(768,768,6)"
   ]
  },
  {
   "cell_type": "code",
   "execution_count": null,
   "id": "59e3bd59",
   "metadata": {},
   "outputs": [],
   "source": [
    "from mpl_toolkits.axes_grid1 import make_axes_locatable\n",
    "fig, axes = plt.subplots(2, 3, figsize=[17.5,9])\n",
    "\n",
    "axes = axes.flatten()\n",
    "\n",
    "for i in range(0,6):\n",
    "    \n",
    "    im = axes[i].imshow(data_val_compressed[:,:,i])\n",
    "    \n",
    "    divider = make_axes_locatable(axes[i])\n",
    "    cax = divider.append_axes('right', size='10%', pad=0.1)\n",
    "\n",
    "    fig.colorbar(im, cax=cax, orientation='vertical')"
   ]
  },
  {
   "cell_type": "code",
   "execution_count": null,
   "id": "fba1a2b0",
   "metadata": {},
   "outputs": [],
   "source": []
  },
  {
   "cell_type": "code",
   "execution_count": null,
   "id": "e0ead790",
   "metadata": {},
   "outputs": [],
   "source": []
  },
  {
   "cell_type": "code",
   "execution_count": null,
   "id": "5c49f7e4",
   "metadata": {},
   "outputs": [],
   "source": []
  }
 ],
 "metadata": {
  "kernelspec": {
   "display_name": "Python 3",
   "language": "python",
   "name": "python3"
  },
  "language_info": {
   "codemirror_mode": {
    "name": "ipython",
    "version": 3
   },
   "file_extension": ".py",
   "mimetype": "text/x-python",
   "name": "python",
   "nbconvert_exporter": "python",
   "pygments_lexer": "ipython3",
   "version": "3.8.8"
  }
 },
 "nbformat": 4,
 "nbformat_minor": 5
}
